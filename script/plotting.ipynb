{
 "cells": [
  {
   "cell_type": "code",
   "execution_count": 6,
   "metadata": {},
   "outputs": [],
   "source": [
    "import pandas as pd"
   ]
  },
  {
   "cell_type": "code",
   "execution_count": 9,
   "metadata": {},
   "outputs": [],
   "source": [
    "df = pd.read_csv(\"knn_config_recommendation.csv\")"
   ]
  },
  {
   "cell_type": "code",
   "execution_count": 24,
   "metadata": {},
   "outputs": [
    {
     "name": "stdout",
     "output_type": "stream",
     "text": [
      "\\begin{tabular}{rrrrrr}\n",
      "\\toprule\n",
      "   k &        r &      r.1 &      r.2 &      r.3 &      r.4 \\\\\n",
      "\\midrule\n",
      " 1.0 & 0.116415 & 0.117290 & 0.117167 & 0.116163 & 0.115278 \\\\\n",
      " 3.0 & 0.113970 & 0.114951 & 0.114819 & 0.114587 & 0.114102 \\\\\n",
      " 5.0 & 0.113905 & 0.114558 & 0.114533 & 0.113986 & 0.113526 \\\\\n",
      "15.0 & 0.114405 & 0.114948 & 0.115084 & 0.114135 & 0.113520 \\\\\n",
      "25.0 & 0.113169 & 0.113650 & 0.113676 & 0.112941 & 0.112412 \\\\\n",
      "\\bottomrule\n",
      "\\end{tabular}\n",
      "\n"
     ]
    },
    {
     "name": "stderr",
     "output_type": "stream",
     "text": [
      "/tmp/ipykernel_904340/805895933.py:1: FutureWarning: In future versions `DataFrame.to_latex` is expected to utilise the base implementation of `Styler.to_latex` for formatting and rendering. The arguments signature may therefore change. It is recommended instead to use `DataFrame.style.to_latex` which also contains additional functionality.\n",
      "  latexstr = df.query(\"mode == 'cc' & split == 'test' & metric == 'rank'\").drop(columns=[\"mode\", \"split\", \"metric\"]).to_latex(index=False)\n"
     ]
    }
   ],
   "source": [
    "latexstr = df.query(\"mode == 'cc' & split == 'test' & metric == 'rank'\").drop(columns=[\"mode\", \"split\", \"metric\"]).to_latex(index=False)\n",
    "print(latexstr)"
   ]
  },
  {
   "cell_type": "code",
   "execution_count": 26,
   "metadata": {},
   "outputs": [
    {
     "data": {
      "text/html": [
       "<div>\n",
       "<style scoped>\n",
       "    .dataframe tbody tr th:only-of-type {\n",
       "        vertical-align: middle;\n",
       "    }\n",
       "\n",
       "    .dataframe tbody tr th {\n",
       "        vertical-align: top;\n",
       "    }\n",
       "\n",
       "    .dataframe thead th {\n",
       "        text-align: right;\n",
       "    }\n",
       "</style>\n",
       "<table border=\"1\" class=\"dataframe\">\n",
       "  <thead>\n",
       "    <tr style=\"text-align: right;\">\n",
       "      <th></th>\n",
       "      <th>k</th>\n",
       "      <th>r</th>\n",
       "      <th>r.1</th>\n",
       "      <th>r.2</th>\n",
       "      <th>r.3</th>\n",
       "      <th>r.4</th>\n",
       "    </tr>\n",
       "  </thead>\n",
       "  <tbody>\n",
       "    <tr>\n",
       "      <th>1</th>\n",
       "      <td>100.0</td>\n",
       "      <td>11.641499</td>\n",
       "      <td>11.729003</td>\n",
       "      <td>11.716701</td>\n",
       "      <td>11.616298</td>\n",
       "      <td>11.527839</td>\n",
       "    </tr>\n",
       "    <tr>\n",
       "      <th>2</th>\n",
       "      <td>300.0</td>\n",
       "      <td>11.396972</td>\n",
       "      <td>11.495102</td>\n",
       "      <td>11.481867</td>\n",
       "      <td>11.458679</td>\n",
       "      <td>11.410199</td>\n",
       "    </tr>\n",
       "    <tr>\n",
       "      <th>3</th>\n",
       "      <td>500.0</td>\n",
       "      <td>11.390494</td>\n",
       "      <td>11.455818</td>\n",
       "      <td>11.453323</td>\n",
       "      <td>11.398597</td>\n",
       "      <td>11.352649</td>\n",
       "    </tr>\n",
       "    <tr>\n",
       "      <th>4</th>\n",
       "      <td>1500.0</td>\n",
       "      <td>11.440549</td>\n",
       "      <td>11.494799</td>\n",
       "      <td>11.508397</td>\n",
       "      <td>11.413465</td>\n",
       "      <td>11.351951</td>\n",
       "    </tr>\n",
       "    <tr>\n",
       "      <th>5</th>\n",
       "      <td>2500.0</td>\n",
       "      <td>11.316943</td>\n",
       "      <td>11.364981</td>\n",
       "      <td>11.367635</td>\n",
       "      <td>11.294053</td>\n",
       "      <td>11.241188</td>\n",
       "    </tr>\n",
       "  </tbody>\n",
       "</table>\n",
       "</div>"
      ],
      "text/plain": [
       "        k          r        r.1        r.2        r.3        r.4\n",
       "1   100.0  11.641499  11.729003  11.716701  11.616298  11.527839\n",
       "2   300.0  11.396972  11.495102  11.481867  11.458679  11.410199\n",
       "3   500.0  11.390494  11.455818  11.453323  11.398597  11.352649\n",
       "4  1500.0  11.440549  11.494799  11.508397  11.413465  11.351951\n",
       "5  2500.0  11.316943  11.364981  11.367635  11.294053  11.241188"
      ]
     },
     "execution_count": 26,
     "metadata": {},
     "output_type": "execute_result"
    }
   ],
   "source": [
    "df.query(\"mode == 'cc' & split == 'test' & metric == 'rank'\").drop(columns=[\"mode\", \"split\", \"metric\"])*100"
   ]
  },
  {
   "cell_type": "code",
   "execution_count": 1,
   "metadata": {},
   "outputs": [],
   "source": [
    "s = \"\"\"1\t\t\t\t\t\n",
    "3\t0.21\t0.28\t0.30\t0.37\t0.40\n",
    "5\t0.19\t0.27\t0.29\t0.37\t0.41\n",
    "15\t0.26\t0.34\t0.37\t0.45\t0.50\n",
    "25\t0.26\t0.36\t0.40\t0.49\t0.54\"\"\""
   ]
  },
  {
   "cell_type": "code",
   "execution_count": 5,
   "metadata": {},
   "outputs": [
    {
     "name": "stdout",
     "output_type": "stream",
     "text": [
      "['1', '', '', '', '', '']\n",
      "['3', '0.21', '0.28', '0.30', '0.37', '0.40']\n",
      "['5', '0.19', '0.27', '0.29', '0.37', '0.41']\n",
      "['15', '0.26', '0.34', '0.37', '0.45', '0.50']\n",
      "['25', '0.26', '0.36', '0.40', '0.49', '0.54']\n"
     ]
    }
   ],
   "source": [
    "data = {}\n",
    "for l in s.split(\"\\n\"):\n",
    "    ll = l.split(\"\\t\")\n",
    "    data[]"
   ]
  },
  {
   "cell_type": "code",
   "execution_count": null,
   "metadata": {},
   "outputs": [],
   "source": [
    "# Converting the given data into a LaTeX table format\n",
    "\n",
    "data = {\n",
    "    \"k\": [1, 3, 5, 15, 25],\n",
    "    \"r1\": [0.12, 0.11, 0.11, 0.11, 0.11],\n",
    "    \"r2\": [0.12, 0.11, 0.11, 0.11, 0.11],\n",
    "    \"r3\": [0.12, 0.11, 0.11, 0.12, 0.11],\n",
    "    \"r4\": [0.12, 0.11, 0.11, 0.11, 0.11],\n",
    "    \"r5\": [0.12, 0.11, 0.11, 0.11, 0.11]\n",
    "}\n",
    "\n",
    "latex_table = \"\\\\begin{tabular}{|c|c|c|c|c|c|}\\n\\\\toprule\\n\"\n",
    "latex_table += \"k & r1 & r2 & r3 & r4 & r5 \\\\\\\\\\n\\\\midrule\\n\"\n",
    "\n",
    "for i in range(len(data[\"k\"])):\n",
    "    row = [data[key][i] for key in data]\n",
    "    latex_table += \" & \".join(map(str, row)) + \" \\\\\\\\\\n\"\n",
    "\n",
    "latex_table += \"\\\\bottomrule\\n\\\\end{tabular}\"\n",
    "\n",
    "latex_table"
   ]
  }
 ],
 "metadata": {
  "kernelspec": {
   "display_name": ".venv",
   "language": "python",
   "name": "python3"
  },
  "language_info": {
   "codemirror_mode": {
    "name": "ipython",
    "version": 3
   },
   "file_extension": ".py",
   "mimetype": "text/x-python",
   "name": "python",
   "nbconvert_exporter": "python",
   "pygments_lexer": "ipython3",
   "version": "3.11.6"
  }
 },
 "nbformat": 4,
 "nbformat_minor": 2
}
